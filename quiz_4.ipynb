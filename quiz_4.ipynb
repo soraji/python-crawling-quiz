{
 "cells": [
  {
   "cell_type": "markdown",
   "metadata": {},
   "source": [
    "### 오설록 페이지 크롤링 하기\n",
    "- https://www.osulloc.com/kr/ko/shop/item/list\n",
    "- 상품 데이터 크롤링"
   ]
  },
  {
   "cell_type": "code",
   "execution_count": 2,
   "metadata": {},
   "outputs": [],
   "source": [
    "import requests\n",
    "from bs4 import BeautifulSoup\n",
    "import pandas as pd"
   ]
  },
  {
   "cell_type": "markdown",
   "metadata": {},
   "source": [
    "#### 1. 페이지를 입력하면 링크 데이터 크롤링"
   ]
  },
  {
   "cell_type": "code",
   "execution_count": 3,
   "metadata": {},
   "outputs": [],
   "source": [
    "start_page, end_page = 1, 3"
   ]
  },
  {
   "cell_type": "code",
   "execution_count": 39,
   "metadata": {},
   "outputs": [
    {
     "data": {
      "text/plain": [
       "'https://www.osulloc.com/kr/ko/shop/item/list?sort=popular&p=2'"
      ]
     },
     "execution_count": 39,
     "metadata": {},
     "output_type": "execute_result"
    }
   ],
   "source": [
    "# p=0 이어도 페이지 접속가능\n",
    "start_page = 1\n",
    "end_page = 3\n",
    "url = \"https://www.osulloc.com/kr/ko/shop/item/list?sort=popular&p={}\".format(end_page-1)\n",
    "url"
   ]
  },
  {
   "cell_type": "code",
   "execution_count": 40,
   "metadata": {},
   "outputs": [
    {
     "data": {
      "text/plain": [
       "<Response [200]>"
      ]
     },
     "execution_count": 40,
     "metadata": {},
     "output_type": "execute_result"
    }
   ],
   "source": [
    "response = requests.get(url)\n",
    "response"
   ]
  },
  {
   "cell_type": "code",
   "execution_count": 41,
   "metadata": {},
   "outputs": [
    {
     "data": {
      "text/plain": [
       "24"
      ]
     },
     "execution_count": 41,
     "metadata": {},
     "output_type": "execute_result"
    }
   ],
   "source": [
    "dom = BeautifulSoup(response.content,\"html.parser\")\n",
    "elements = dom.select(\".product-list > li\")\n",
    "len(elements)"
   ]
  },
  {
   "cell_type": "code",
   "execution_count": 42,
   "metadata": {},
   "outputs": [],
   "source": [
    "paths = [\n",
    "    \"https://www.osulloc.com\"+ element.select_one('a').get('href')\n",
    "    for element in elements\n",
    "]"
   ]
  },
  {
   "cell_type": "markdown",
   "metadata": {},
   "source": [
    "#### 2. 링크 데이터로 상세 정보 크롤링"
   ]
  },
  {
   "cell_type": "code",
   "execution_count": 44,
   "metadata": {},
   "outputs": [
    {
     "data": {
      "text/html": [
       "<div>\n",
       "<style scoped>\n",
       "    .dataframe tbody tr th:only-of-type {\n",
       "        vertical-align: middle;\n",
       "    }\n",
       "\n",
       "    .dataframe tbody tr th {\n",
       "        vertical-align: top;\n",
       "    }\n",
       "\n",
       "    .dataframe thead th {\n",
       "        text-align: right;\n",
       "    }\n",
       "</style>\n",
       "<table border=\"1\" class=\"dataframe\">\n",
       "  <thead>\n",
       "    <tr style=\"text-align: right;\">\n",
       "      <th></th>\n",
       "      <th>titles</th>\n",
       "      <th>images</th>\n",
       "      <th>prices</th>\n",
       "    </tr>\n",
       "  </thead>\n",
       "  <tbody>\n",
       "    <tr>\n",
       "      <th>19</th>\n",
       "      <td>금빛마중 3입(DIY)</td>\n",
       "      <td>https://www.osulloc.com/kr/ko/upload/adminImag...</td>\n",
       "      <td>4,500원</td>\n",
       "    </tr>\n",
       "    <tr>\n",
       "      <th>20</th>\n",
       "      <td>억수진 80 g(잎차)</td>\n",
       "      <td>https://www.osulloc.com/kr/ko/upload/adminImag...</td>\n",
       "      <td>30,000원</td>\n",
       "    </tr>\n",
       "    <tr>\n",
       "      <th>21</th>\n",
       "      <td>냉침물병</td>\n",
       "      <td>https://www.osulloc.com/kr/ko/upload/adminImag...</td>\n",
       "      <td>25,000원</td>\n",
       "    </tr>\n",
       "    <tr>\n",
       "      <th>22</th>\n",
       "      <td>메모리인제주세트 20입</td>\n",
       "      <td>https://www.osulloc.com/kr/ko/upload/adminImag...</td>\n",
       "      <td>38,000원</td>\n",
       "    </tr>\n",
       "    <tr>\n",
       "      <th>23</th>\n",
       "      <td>캐모마일 10입 (하드케이스)</td>\n",
       "      <td>https://www.osulloc.com/kr/ko/upload/adminImag...</td>\n",
       "      <td>15,000원</td>\n",
       "    </tr>\n",
       "  </tbody>\n",
       "</table>\n",
       "</div>"
      ],
      "text/plain": [
       "               titles                                             images  \\\n",
       "19       금빛마중 3입(DIY)  https://www.osulloc.com/kr/ko/upload/adminImag...   \n",
       "20       억수진 80 g(잎차)  https://www.osulloc.com/kr/ko/upload/adminImag...   \n",
       "21               냉침물병  https://www.osulloc.com/kr/ko/upload/adminImag...   \n",
       "22       메모리인제주세트 20입  https://www.osulloc.com/kr/ko/upload/adminImag...   \n",
       "23  캐모마일 10입 (하드케이스)   https://www.osulloc.com/kr/ko/upload/adminImag...   \n",
       "\n",
       "     prices  \n",
       "19   4,500원  \n",
       "20  30,000원  \n",
       "21  25,000원  \n",
       "22  38,000원  \n",
       "23  15,000원  "
      ]
     },
     "execution_count": 44,
     "metadata": {},
     "output_type": "execute_result"
    }
   ],
   "source": [
    "image_paths = []\n",
    "titles = []\n",
    "prices = []\n",
    "\n",
    "for path in paths:\n",
    "    url = path\n",
    "    response = requests.get(url)\n",
    "    dom = BeautifulSoup(response.content,\"html.parser\")\n",
    "    \n",
    "    image_paths.append(\"https://www.osulloc.com\"+dom.select_one(\"div.prod_visual_box > img\").get(\"src\"))\n",
    "    titles.append(dom.select_one(\".prod_info_tit>.infotit_tit\").text)\n",
    "    prices.append(dom.select_one(\"#price-per\").text.replace(\"\\n\",\"\"))\n",
    "\n",
    "df = pd.DataFrame({\n",
    "        \"titles\": titles,\n",
    "        \"images\": image_paths,\n",
    "        \"prices\": prices,\n",
    "    })\n",
    "\n",
    "df.tail()"
   ]
  },
  {
   "cell_type": "markdown",
   "metadata": {},
   "source": [
    "#### 3. 데이터 프레임으로 만들기"
   ]
  },
  {
   "cell_type": "code",
   "execution_count": 9,
   "metadata": {},
   "outputs": [
    {
     "data": {
      "text/html": [
       "<div>\n",
       "<style scoped>\n",
       "    .dataframe tbody tr th:only-of-type {\n",
       "        vertical-align: middle;\n",
       "    }\n",
       "\n",
       "    .dataframe tbody tr th {\n",
       "        vertical-align: top;\n",
       "    }\n",
       "\n",
       "    .dataframe thead th {\n",
       "        text-align: right;\n",
       "    }\n",
       "</style>\n",
       "<table border=\"1\" class=\"dataframe\">\n",
       "  <thead>\n",
       "    <tr style=\"text-align: right;\">\n",
       "      <th></th>\n",
       "      <th>titles</th>\n",
       "      <th>images</th>\n",
       "      <th>prices</th>\n",
       "    </tr>\n",
       "  </thead>\n",
       "  <tbody>\n",
       "    <tr>\n",
       "      <th>43</th>\n",
       "      <td>그린컵 225ml(아이보리)</td>\n",
       "      <td>http://www.osulloc.com/kr/ko/upload/adminImage...</td>\n",
       "      <td>9,000원</td>\n",
       "    </tr>\n",
       "    <tr>\n",
       "      <th>44</th>\n",
       "      <td>프리미엄가루발효차 40 g(분말)</td>\n",
       "      <td>http://www.osulloc.com/kr/ko/upload/adminImage...</td>\n",
       "      <td>13,000원</td>\n",
       "    </tr>\n",
       "    <tr>\n",
       "      <th>45</th>\n",
       "      <td>레드파파야블랙티 3입(DIY)</td>\n",
       "      <td>http://www.osulloc.com/kr/ko/upload/adminImage...</td>\n",
       "      <td>4,500원</td>\n",
       "    </tr>\n",
       "    <tr>\n",
       "      <th>46</th>\n",
       "      <td>WATER+ 핑크사워 30입(분말)</td>\n",
       "      <td>http://www.osulloc.com/kr/ko/upload/adminImage...</td>\n",
       "      <td>16,000원</td>\n",
       "    </tr>\n",
       "    <tr>\n",
       "      <th>47</th>\n",
       "      <td>WATER+ 해피스윗 30입(분말)</td>\n",
       "      <td>http://www.osulloc.com/kr/ko/upload/adminImage...</td>\n",
       "      <td>16,000원</td>\n",
       "    </tr>\n",
       "  </tbody>\n",
       "</table>\n",
       "</div>"
      ],
      "text/plain": [
       "                 titles                                             images  \\\n",
       "43      그린컵 225ml(아이보리)  http://www.osulloc.com/kr/ko/upload/adminImage...   \n",
       "44   프리미엄가루발효차 40 g(분말)  http://www.osulloc.com/kr/ko/upload/adminImage...   \n",
       "45     레드파파야블랙티 3입(DIY)  http://www.osulloc.com/kr/ko/upload/adminImage...   \n",
       "46  WATER+ 핑크사워 30입(분말)  http://www.osulloc.com/kr/ko/upload/adminImage...   \n",
       "47  WATER+ 해피스윗 30입(분말)  http://www.osulloc.com/kr/ko/upload/adminImage...   \n",
       "\n",
       "     prices  \n",
       "43   9,000원  \n",
       "44  13,000원  \n",
       "45   4,500원  \n",
       "46  16,000원  \n",
       "47  16,000원  "
      ]
     },
     "execution_count": 9,
     "metadata": {},
     "output_type": "execute_result"
    }
   ],
   "source": []
  }
 ],
 "metadata": {
  "kernelspec": {
   "display_name": "Python 3",
   "language": "python",
   "name": "python3"
  },
  "language_info": {
   "codemirror_mode": {
    "name": "ipython",
    "version": 3
   },
   "file_extension": ".py",
   "mimetype": "text/x-python",
   "name": "python",
   "nbconvert_exporter": "python",
   "pygments_lexer": "ipython3",
   "version": "3.7.3"
  }
 },
 "nbformat": 4,
 "nbformat_minor": 2
}
