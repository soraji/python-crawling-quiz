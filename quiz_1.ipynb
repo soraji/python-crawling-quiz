{
 "cells": [
  {
   "cell_type": "markdown",
   "metadata": {},
   "source": [
    "`# TODO` 부분에 코드를 넣으시면 됩니다."
   ]
  },
  {
   "cell_type": "markdown",
   "metadata": {},
   "source": [
    "### Quiz 1\n",
    "\n",
    "- data 변수를 선언하여 문자열 오프셋을 이용하여\n",
    "\n",
    "    `data = \"0123456789\"`\n",
    "    \n",
    "    \n",
    "- 짝수만 거꾸로 출력되도록 코드를 작성하세요.\n",
    "\n",
    "    `86420`"
   ]
  },
  {
   "cell_type": "code",
   "execution_count": 31,
   "metadata": {},
   "outputs": [
    {
     "name": "stdout",
     "output_type": "stream",
     "text": [
      "86420\n"
     ]
    }
   ],
   "source": [
    "data = \"0123456789\"\n",
    "\n",
    "# TODO  \n",
    "data1 = data[::2]\n",
    "print(data1[::-1])"
   ]
  },
  {
   "cell_type": "markdown",
   "metadata": {},
   "source": [
    "### Quiz 2\n",
    "- 'Beautiful is better than ugly.' 문장을 단어의 길이가 긴 단어 순으로 정렬하는 코드로 만드세요. \n",
    "- 리스트에서 단어의 길이 순으로 오름차순 정렬 `list.sort(key=len)` \n",
    "\n",
    "    `sentence = \"Beautiful is better than ugly.\"`\n",
    "\n",
    "- 결과\n",
    "    \n",
    "    `Beautiful better ugly than is.`"
   ]
  },
  {
   "cell_type": "code",
   "execution_count": 85,
   "metadata": {},
   "outputs": [
    {
     "data": {
      "text/plain": [
       "'Beautiful better ugly than is.'"
      ]
     },
     "execution_count": 85,
     "metadata": {},
     "output_type": "execute_result"
    }
   ],
   "source": [
    "sentence = \"Beautiful is better than ugly.\"\n",
    "\n",
    "# TODO\n",
    "result = sentence.split(\" \")\n",
    "\n",
    "result.sort(key=len)\n",
    "sentence = result[::-1]\n",
    "sentence = \" \".join(sentence).replace(\".\",\"\")+\".\"\n",
    "sentence"
   ]
  },
  {
   "cell_type": "markdown",
   "metadata": {},
   "source": [
    "##### Quiz 3\n",
    "- 로또번호를 출력하는 코드를 작성하세요. 1 ~ 45 사이의 숫자를 랜덤으로 뽑되 숫자가 중복되면 안됩니다.\n",
    "- while, break, if, in, list, append 사용\n",
    "\n",
    "```\n",
    "[3, 8, 15, 22, 27, 29]\n",
    "```"
   ]
  },
  {
   "cell_type": "code",
   "execution_count": 83,
   "metadata": {},
   "outputs": [
    {
     "data": {
      "text/plain": [
       "21"
      ]
     },
     "execution_count": 83,
     "metadata": {},
     "output_type": "execute_result"
    }
   ],
   "source": [
    "import random\n",
    "\n",
    "lotto = []\n",
    "\n",
    "# TODO\n",
    "lotto = random.randrange(1,46)\n",
    "lotto"
   ]
  },
  {
   "cell_type": "markdown",
   "metadata": {},
   "source": [
    "##### Quiz 4\n",
    "- 마법사(Wizard), 전사(Warrior) 클래스를 생성하세요.\n",
    "- 마법사의 공격력은 10 ~ 50이고, 체력은 100\n",
    "- 전사의 공격력은 20 ~ 30이고, 체력은 110\n",
    "- 공격력은 최소와 최대 공격력이 있고 공격할때 마다 최소와 최대 공격력사이의 랜덤한 값으로 공격력이 설정됩니다.\n",
    "- 각 클래스는 공격하는 기능과 현재 상태를 확인하는 기능이 있습니다.\n",
    "- 마법사 3명과 전사 4명이 싸울경우 누가 이기는지 확인하는 코드를 작성하세요."
   ]
  },
  {
   "cell_type": "code",
   "execution_count": 4,
   "metadata": {},
   "outputs": [],
   "source": [
    "import random"
   ]
  },
  {
   "cell_type": "code",
   "execution_count": 8,
   "metadata": {},
   "outputs": [],
   "source": [
    "class Unit:\n",
    "    \n",
    "    # TODO\n",
    "    def __init__(self)\n",
    "    \n",
    "    def "
   ]
  },
  {
   "cell_type": "code",
   "execution_count": 89,
   "metadata": {},
   "outputs": [
    {
     "ename": "NameError",
     "evalue": "name 'Unit' is not defined",
     "output_type": "error",
     "traceback": [
      "\u001b[1;31m---------------------------------------------------------------------------\u001b[0m",
      "\u001b[1;31mNameError\u001b[0m                                 Traceback (most recent call last)",
      "\u001b[1;32m<ipython-input-89-020a703042a6>\u001b[0m in \u001b[0;36m<module>\u001b[1;34m\u001b[0m\n\u001b[1;32m----> 1\u001b[1;33m \u001b[1;32mclass\u001b[0m \u001b[0mWizard\u001b[0m\u001b[1;33m(\u001b[0m\u001b[0mUnit\u001b[0m\u001b[1;33m)\u001b[0m\u001b[1;33m:\u001b[0m\u001b[1;33m\u001b[0m\u001b[1;33m\u001b[0m\u001b[0m\n\u001b[0m\u001b[0;32m      2\u001b[0m \u001b[1;33m\u001b[0m\u001b[0m\n\u001b[0;32m      3\u001b[0m     \u001b[1;31m# TODO\u001b[0m\u001b[1;33m\u001b[0m\u001b[1;33m\u001b[0m\u001b[1;33m\u001b[0m\u001b[0m\n\u001b[0;32m      4\u001b[0m     \u001b[1;32mdef\u001b[0m \u001b[0m__init__\u001b[0m\u001b[1;33m(\u001b[0m\u001b[0mself\u001b[0m\u001b[1;33m)\u001b[0m\u001b[1;33m:\u001b[0m\u001b[1;33m\u001b[0m\u001b[1;33m\u001b[0m\u001b[0m\n\u001b[0;32m      5\u001b[0m         \u001b[0mself\u001b[0m\u001b[1;33m.\u001b[0m\u001b[0mattack\u001b[0m \u001b[1;33m=\u001b[0m \u001b[0mrandom\u001b[0m\u001b[1;33m.\u001b[0m\u001b[0mrandrange\u001b[0m\u001b[1;33m(\u001b[0m\u001b[1;36m10\u001b[0m\u001b[1;33m,\u001b[0m\u001b[1;36m50\u001b[0m\u001b[1;33m)\u001b[0m\u001b[1;33m\u001b[0m\u001b[1;33m\u001b[0m\u001b[0m\n",
      "\u001b[1;31mNameError\u001b[0m: name 'Unit' is not defined"
     ]
    }
   ],
   "source": [
    "class Wizard(Unit):\n",
    "\n",
    "    # TODO\n",
    "    def __init__(self):\n",
    "        self.attack = random.randrange(10,50)\n",
    "        self.HP = 100"
   ]
  },
  {
   "cell_type": "code",
   "execution_count": 10,
   "metadata": {},
   "outputs": [],
   "source": [
    "class Warrior(Unit):\n",
    "    \n",
    "    # TODO"
   ]
  },
  {
   "cell_type": "code",
   "execution_count": 11,
   "metadata": {},
   "outputs": [
    {
     "name": "stdout",
     "output_type": "stream",
     "text": [
      "클래스 : Wizard, 체력 : 100, 최소 공격력 : 10, 최대 공격력 : 50\n",
      "클래스 : Warrior, 체력 : 110, 최소 공격력 : 20, 최대 공격력 : 30\n"
     ]
    }
   ],
   "source": [
    "wizard = Wizard()\n",
    "warrior = Warrior()\n",
    "wizard.disp()\n",
    "warrior.disp()"
   ]
  },
  {
   "cell_type": "code",
   "execution_count": 12,
   "metadata": {
    "scrolled": true
   },
   "outputs": [
    {
     "name": "stdout",
     "output_type": "stream",
     "text": [
      "\n",
      "턴:1\n",
      "남은 유닛 : 팀1:3, 팀2:4\n",
      "team1 턴\n",
      "Wizard 공격력 44로 공격!!\n",
      "Warrior 남은 체력 : 66\n",
      "team2 턴\n",
      "Warrior 공격력 23로 공격!!\n",
      "Wizard 남은 체력 : 77\n",
      "\n",
      "턴:2\n",
      "남은 유닛 : 팀1:3, 팀2:4\n",
      "team1 턴\n",
      "Wizard 공격력 28로 공격!!\n",
      "Warrior 남은 체력 : 38\n",
      "team2 턴\n",
      "Warrior 공격력 27로 공격!!\n",
      "Wizard 남은 체력 : 50\n",
      "\n",
      "턴:3\n",
      "남은 유닛 : 팀1:3, 팀2:4\n",
      "team1 턴\n",
      "Wizard 공격력 13로 공격!!\n",
      "Warrior 남은 체력 : 25\n",
      "team2 턴\n",
      "Warrior 공격력 20로 공격!!\n",
      "Wizard 남은 체력 : 30\n",
      "\n",
      "턴:4\n",
      "남은 유닛 : 팀1:3, 팀2:4\n",
      "team1 턴\n",
      "Wizard 공격력 12로 공격!!\n",
      "Warrior 남은 체력 : 13\n",
      "team2 턴\n",
      "Warrior 공격력 26로 공격!!\n",
      "Wizard 남은 체력 : 4\n",
      "\n",
      "턴:5\n",
      "남은 유닛 : 팀1:3, 팀2:4\n",
      "team1 턴\n",
      "Wizard 공격력 43로 공격!!\n",
      "Warrior 남은 체력 : 0\n",
      "\n",
      "턴:6\n",
      "남은 유닛 : 팀1:3, 팀2:3\n",
      "team1 턴\n",
      "Wizard 공격력 37로 공격!!\n",
      "Warrior 남은 체력 : 73\n",
      "team2 턴\n",
      "Warrior 공격력 28로 공격!!\n",
      "Wizard 남은 체력 : 0\n",
      "\n",
      "턴:7\n",
      "남은 유닛 : 팀1:2, 팀2:3\n",
      "team1 턴\n",
      "Wizard 공격력 21로 공격!!\n",
      "Warrior 남은 체력 : 52\n",
      "team2 턴\n",
      "Warrior 공격력 24로 공격!!\n",
      "Wizard 남은 체력 : 76\n",
      "\n",
      "턴:8\n",
      "남은 유닛 : 팀1:2, 팀2:3\n",
      "team1 턴\n",
      "Wizard 공격력 28로 공격!!\n",
      "Warrior 남은 체력 : 24\n",
      "team2 턴\n",
      "Warrior 공격력 20로 공격!!\n",
      "Wizard 남은 체력 : 56\n",
      "\n",
      "턴:9\n",
      "남은 유닛 : 팀1:2, 팀2:3\n",
      "team1 턴\n",
      "Wizard 공격력 46로 공격!!\n",
      "Warrior 남은 체력 : 0\n",
      "\n",
      "턴:10\n",
      "남은 유닛 : 팀1:2, 팀2:2\n",
      "team1 턴\n",
      "Wizard 공격력 19로 공격!!\n",
      "Warrior 남은 체력 : 91\n",
      "team2 턴\n",
      "Warrior 공격력 21로 공격!!\n",
      "Wizard 남은 체력 : 35\n",
      "\n",
      "턴:11\n",
      "남은 유닛 : 팀1:2, 팀2:2\n",
      "team1 턴\n",
      "Wizard 공격력 34로 공격!!\n",
      "Warrior 남은 체력 : 57\n",
      "team2 턴\n",
      "Warrior 공격력 25로 공격!!\n",
      "Wizard 남은 체력 : 10\n",
      "\n",
      "턴:12\n",
      "남은 유닛 : 팀1:2, 팀2:2\n",
      "team1 턴\n",
      "Wizard 공격력 46로 공격!!\n",
      "Warrior 남은 체력 : 11\n",
      "team2 턴\n",
      "Warrior 공격력 24로 공격!!\n",
      "Wizard 남은 체력 : 0\n",
      "\n",
      "턴:13\n",
      "남은 유닛 : 팀1:1, 팀2:2\n",
      "team1 턴\n",
      "Wizard 공격력 37로 공격!!\n",
      "Warrior 남은 체력 : 0\n",
      "\n",
      "턴:14\n",
      "남은 유닛 : 팀1:1, 팀2:1\n",
      "team1 턴\n",
      "Wizard 공격력 13로 공격!!\n",
      "Warrior 남은 체력 : 97\n",
      "team2 턴\n",
      "Warrior 공격력 25로 공격!!\n",
      "Wizard 남은 체력 : 75\n",
      "\n",
      "턴:15\n",
      "남은 유닛 : 팀1:1, 팀2:1\n",
      "team1 턴\n",
      "Wizard 공격력 31로 공격!!\n",
      "Warrior 남은 체력 : 66\n",
      "team2 턴\n",
      "Warrior 공격력 20로 공격!!\n",
      "Wizard 남은 체력 : 55\n",
      "\n",
      "턴:16\n",
      "남은 유닛 : 팀1:1, 팀2:1\n",
      "team1 턴\n",
      "Wizard 공격력 23로 공격!!\n",
      "Warrior 남은 체력 : 43\n",
      "team2 턴\n",
      "Warrior 공격력 28로 공격!!\n",
      "Wizard 남은 체력 : 27\n",
      "\n",
      "턴:17\n",
      "남은 유닛 : 팀1:1, 팀2:1\n",
      "team1 턴\n",
      "Wizard 공격력 22로 공격!!\n",
      "Warrior 남은 체력 : 21\n",
      "team2 턴\n",
      "Warrior 공격력 30로 공격!!\n",
      "Wizard 남은 체력 : 0\n",
      "\n",
      "결과 : team2 승리\n",
      "남은 유닛 : 팀1:0, 팀2:1\n"
     ]
    }
   ],
   "source": [
    "team1 = [Wizard(), Wizard(), Wizard()]\n",
    "team2 = [Warrior(), Warrior(), Warrior(), Warrior()]\n",
    "\n",
    "def fight(team1, team2):\n",
    "    \n",
    "    # TODO\n",
    "\n",
    "fight(team1, team2)"
   ]
  },
  {
   "cell_type": "markdown",
   "metadata": {},
   "source": [
    "##### Quiz 5\n",
    "- `1234-5678-2345-6789` `1234 5678 2345-6789` 와 같은 카드 번호가 입력되면 가장 마지막 4자리를 `*`로 변경하는 코드를 작성하세요.\n",
    "```\n",
    "comment = \"저의 카드 번호는 1234-2331-1123-9485와 7384 1234 5432 1222와 73841234-5432 1222 입니다.\"\n",
    "```"
   ]
  },
  {
   "cell_type": "code",
   "execution_count": 229,
   "metadata": {},
   "outputs": [
    {
     "name": "stdout",
     "output_type": "stream",
     "text": [
      "저의 카드 번호는 1234-2331-1123-****와 7384 1234 5432 ****와 73854321-5432 **** 입니다.\n"
     ]
    }
   ],
   "source": [
    "import re\n",
    "\n",
    "comment = \"저의 카드 번호는 1234-2331-1123-9485와 7384 1234 5432 1222와 73854321-5432 1224 입니다.\"\n",
    "\n",
    "# TODO\n",
    "p = \"([0-9]{4,8})[-]?[\\s]?([0-9]{4})[-]?[\\s]?([0-9]{4})[-]?[\\s]?([0-9]{4})\"\n",
    "\n",
    "numbers = re.findall(p,comment)\n",
    "result = [] #리스트\n",
    "\n",
    "for number in numbers:  \n",
    "    result.append(number[3])    \n",
    "result\n",
    "\n",
    "Out = re.sub(result[0],\"****\",comment)\n",
    "Out = re.sub(result[1],\"****\",Out)\n",
    "Out = re.sub(result[2],\"****\",Out)\n",
    "print(Out)"
   ]
  }
 ],
 "metadata": {
  "kernelspec": {
   "display_name": "Python 3",
   "language": "python",
   "name": "python3"
  },
  "language_info": {
   "codemirror_mode": {
    "name": "ipython",
    "version": 3
   },
   "file_extension": ".py",
   "mimetype": "text/x-python",
   "name": "python",
   "nbconvert_exporter": "python",
   "pygments_lexer": "ipython3",
   "version": "3.7.3"
  }
 },
 "nbformat": 4,
 "nbformat_minor": 2
}
