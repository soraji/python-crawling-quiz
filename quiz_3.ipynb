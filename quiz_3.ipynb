{
 "cells": [
  {
   "cell_type": "markdown",
   "metadata": {},
   "source": [
    "### Quiz 1\n",
    "- 네이버 증권의 나스닥 페이지에서 최근 20일치의 나스닥 정보를 데이터 프레임으로 만드세요.\n",
    "- 크롤링 URL : https://m.stock.naver.com/world/item.nhn?symbol=NAS@IXIC"
   ]
  },
  {
   "cell_type": "code",
   "execution_count": 2,
   "metadata": {},
   "outputs": [],
   "source": [
    "import requests\n",
    "import pandas as pd"
   ]
  },
  {
   "cell_type": "code",
   "execution_count": 11,
   "metadata": {},
   "outputs": [
    {
     "data": {
      "text/html": [
       "<div>\n",
       "<style scoped>\n",
       "    .dataframe tbody tr th:only-of-type {\n",
       "        vertical-align: middle;\n",
       "    }\n",
       "\n",
       "    .dataframe tbody tr th {\n",
       "        vertical-align: top;\n",
       "    }\n",
       "\n",
       "    .dataframe thead th {\n",
       "        text-align: right;\n",
       "    }\n",
       "</style>\n",
       "<table border=\"1\" class=\"dataframe\">\n",
       "  <thead>\n",
       "    <tr style=\"text-align: right;\">\n",
       "      <th></th>\n",
       "      <th>cd</th>\n",
       "      <th>cr</th>\n",
       "      <th>cv</th>\n",
       "      <th>dt</th>\n",
       "      <th>hv</th>\n",
       "      <th>lv</th>\n",
       "      <th>ncv</th>\n",
       "      <th>nv</th>\n",
       "    </tr>\n",
       "  </thead>\n",
       "  <tbody>\n",
       "    <tr>\n",
       "      <th>15</th>\n",
       "      <td>NAS@IXIC</td>\n",
       "      <td>0.08</td>\n",
       "      <td>6.35</td>\n",
       "      <td>20190510</td>\n",
       "      <td>7949.34</td>\n",
       "      <td>7759.34</td>\n",
       "      <td>7916.94</td>\n",
       "      <td>7881.31</td>\n",
       "    </tr>\n",
       "    <tr>\n",
       "      <th>16</th>\n",
       "      <td>NAS@IXIC</td>\n",
       "      <td>-0.41</td>\n",
       "      <td>-32.73</td>\n",
       "      <td>20190509</td>\n",
       "      <td>7929.78</td>\n",
       "      <td>7796.16</td>\n",
       "      <td>7910.59</td>\n",
       "      <td>7853.21</td>\n",
       "    </tr>\n",
       "    <tr>\n",
       "      <th>17</th>\n",
       "      <td>NAS@IXIC</td>\n",
       "      <td>-0.26</td>\n",
       "      <td>-20.44</td>\n",
       "      <td>20190508</td>\n",
       "      <td>8004.49</td>\n",
       "      <td>7923.35</td>\n",
       "      <td>7943.32</td>\n",
       "      <td>7946.24</td>\n",
       "    </tr>\n",
       "    <tr>\n",
       "      <th>18</th>\n",
       "      <td>NAS@IXIC</td>\n",
       "      <td>-1.96</td>\n",
       "      <td>-159.53</td>\n",
       "      <td>20190507</td>\n",
       "      <td>8070.97</td>\n",
       "      <td>7899.02</td>\n",
       "      <td>7963.76</td>\n",
       "      <td>8043.52</td>\n",
       "    </tr>\n",
       "    <tr>\n",
       "      <th>19</th>\n",
       "      <td>NAS@IXIC</td>\n",
       "      <td>-0.50</td>\n",
       "      <td>-40.71</td>\n",
       "      <td>20190506</td>\n",
       "      <td>8135.54</td>\n",
       "      <td>7981.85</td>\n",
       "      <td>8123.29</td>\n",
       "      <td>7981.85</td>\n",
       "    </tr>\n",
       "  </tbody>\n",
       "</table>\n",
       "</div>"
      ],
      "text/plain": [
       "          cd    cr      cv        dt       hv       lv      ncv       nv\n",
       "15  NAS@IXIC  0.08    6.35  20190510  7949.34  7759.34  7916.94  7881.31\n",
       "16  NAS@IXIC -0.41  -32.73  20190509  7929.78  7796.16  7910.59  7853.21\n",
       "17  NAS@IXIC -0.26  -20.44  20190508  8004.49  7923.35  7943.32  7946.24\n",
       "18  NAS@IXIC -1.96 -159.53  20190507  8070.97  7899.02  7963.76  8043.52\n",
       "19  NAS@IXIC -0.50  -40.71  20190506  8135.54  7981.85  8123.29  7981.85"
      ]
     },
     "execution_count": 11,
     "metadata": {},
     "output_type": "execute_result"
    }
   ],
   "source": [
    "url = \"https://m.stock.naver.com/api/json/world/worldIndexDay.nhn?symbol=NAS@IXIC&pageSize=20&page=1\"\n",
    "response = requests.get(url)\n",
    "\n",
    "nas_json = response.json()\n",
    "nas = nas_json[\"result\"][\"worldIndexDay\"]\n",
    "\n",
    "df = pd.DataFrame(nas)\n",
    "df.tail()"
   ]
  },
  {
   "cell_type": "markdown",
   "metadata": {},
   "source": [
    "### Quiz 2\n",
    "- 네이버 영화 페이지에서 현재 상영영화 영화 제목과 평점데이터를 크롤링해서 데이터 프레임으로 만들어 주세요.\n",
    "- 크롤링 URL : https://movie.naver.com/movie/running/current.nhn"
   ]
  },
  {
   "cell_type": "code",
   "execution_count": 4,
   "metadata": {},
   "outputs": [],
   "source": [
    "from bs4 import BeautifulSoup"
   ]
  },
  {
   "cell_type": "code",
   "execution_count": 5,
   "metadata": {},
   "outputs": [],
   "source": [
    "url = \"https://movie.naver.com/movie/running/current.nhn\"\n",
    "response = requests.get(url)\n",
    "dom = BeautifulSoup(response.content, \"html.parser\")\n",
    "selector = \"#content > div.article > div:nth-child(1) > div.lst_wrap > ul > li\"\n",
    "\n",
    "movies = dom.select(selector)"
   ]
  },
  {
   "cell_type": "code",
   "execution_count": 6,
   "metadata": {},
   "outputs": [
    {
     "data": {
      "text/plain": [
       "'기생충'"
      ]
     },
     "execution_count": 6,
     "metadata": {},
     "output_type": "execute_result"
    }
   ],
   "source": [
    "movies[0].select_one(\".lst_dsc > .tit > a\").text"
   ]
  },
  {
   "cell_type": "code",
   "execution_count": 7,
   "metadata": {},
   "outputs": [
    {
     "data": {
      "text/plain": [
       "'8.62'"
      ]
     },
     "execution_count": 7,
     "metadata": {},
     "output_type": "execute_result"
    }
   ],
   "source": [
    "movies[0].select_one(\".star_t1 > a > .num\").text"
   ]
  },
  {
   "cell_type": "code",
   "execution_count": 24,
   "metadata": {},
   "outputs": [],
   "source": [
    "name_list = [name.select_one(\".lst_dsc > .tit > a\").text for name in movies]\n",
    "star_list = [star.select_one(\".star_t1 > a > .num\").text for star in movies]"
   ]
  },
  {
   "cell_type": "code",
   "execution_count": 23,
   "metadata": {},
   "outputs": [
    {
     "data": {
      "text/html": [
       "<div>\n",
       "<style scoped>\n",
       "    .dataframe tbody tr th:only-of-type {\n",
       "        vertical-align: middle;\n",
       "    }\n",
       "\n",
       "    .dataframe tbody tr th {\n",
       "        vertical-align: top;\n",
       "    }\n",
       "\n",
       "    .dataframe thead th {\n",
       "        text-align: right;\n",
       "    }\n",
       "</style>\n",
       "<table border=\"1\" class=\"dataframe\">\n",
       "  <thead>\n",
       "    <tr style=\"text-align: right;\">\n",
       "      <th></th>\n",
       "      <th>title</th>\n",
       "      <th>star</th>\n",
       "    </tr>\n",
       "  </thead>\n",
       "  <tbody>\n",
       "    <tr>\n",
       "      <th>105</th>\n",
       "      <td>프리덤</td>\n",
       "      <td>7.36</td>\n",
       "    </tr>\n",
       "    <tr>\n",
       "      <th>106</th>\n",
       "      <td>흑룡강</td>\n",
       "      <td>0.00</td>\n",
       "    </tr>\n",
       "    <tr>\n",
       "      <th>107</th>\n",
       "      <td>딸의 친구 3</td>\n",
       "      <td>7.20</td>\n",
       "    </tr>\n",
       "    <tr>\n",
       "      <th>108</th>\n",
       "      <td>미스 사이공: 25주년 특별 공연</td>\n",
       "      <td>9.18</td>\n",
       "    </tr>\n",
       "    <tr>\n",
       "      <th>109</th>\n",
       "      <td>항거:유관순 이야기</td>\n",
       "      <td>8.59</td>\n",
       "    </tr>\n",
       "  </tbody>\n",
       "</table>\n",
       "</div>"
      ],
      "text/plain": [
       "                  title  star\n",
       "105                 프리덤  7.36\n",
       "106                 흑룡강  0.00\n",
       "107             딸의 친구 3  7.20\n",
       "108  미스 사이공: 25주년 특별 공연  9.18\n",
       "109          항거:유관순 이야기  8.59"
      ]
     },
     "execution_count": 23,
     "metadata": {},
     "output_type": "execute_result"
    }
   ],
   "source": [
    "df = pd.DataFrame({\"title\":name_list})\n",
    "df[\"star\"] = pd.DataFrame({\"star\":star_list})\n",
    "df.tail()\n"
   ]
  }
 ],
 "metadata": {
  "kernelspec": {
   "display_name": "Python 3",
   "language": "python",
   "name": "python3"
  },
  "language_info": {
   "codemirror_mode": {
    "name": "ipython",
    "version": 3
   },
   "file_extension": ".py",
   "mimetype": "text/x-python",
   "name": "python",
   "nbconvert_exporter": "python",
   "pygments_lexer": "ipython3",
   "version": "3.7.3"
  }
 },
 "nbformat": 4,
 "nbformat_minor": 2
}
