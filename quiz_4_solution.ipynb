{
 "cells": [
  {
   "cell_type": "markdown",
   "metadata": {},
   "source": [
    "### 오설록 페이지 크롤링 하기\n",
    "- https://www.osulloc.com/kr/ko/shop/item/list\n",
    "- 상품 데이터 크롤링"
   ]
  },
  {
   "cell_type": "code",
   "execution_count": 3,
   "metadata": {},
   "outputs": [],
   "source": [
    "import requests\n",
    "from bs4 import BeautifulSoup"
   ]
  },
  {
   "cell_type": "markdown",
   "metadata": {},
   "source": [
    "#### 1. 페이지를 입력하면 링크 데이터 크롤링"
   ]
  },
  {
   "cell_type": "code",
   "execution_count": 4,
   "metadata": {},
   "outputs": [],
   "source": [
    "start_page, end_page = 1, 3"
   ]
  },
  {
   "cell_type": "code",
   "execution_count": 5,
   "metadata": {},
   "outputs": [
    {
     "name": "stdout",
     "output_type": "stream",
     "text": [
      "crawling : 1\n",
      "crawling : 2\n"
     ]
    }
   ],
   "source": [
    "paths = []\n",
    "for page in range(start_page, end_page):\n",
    "    print(\"crawling : {}\".format(str(page)))\n",
    "    response = requests.get(\"http://www.osulloc.com/kr/ko/shop/item/list?sort=popular&p={}\".format(str(page)))\n",
    "    dom = BeautifulSoup(response.content, \"html.parser\")\n",
    "    links = dom.select('.product-list li')\n",
    "    for link in links:\n",
    "        path = link.select_one('a.product-item').get('href')\n",
    "        path = \"http://www.osulloc.com\" + path\n",
    "        paths.append(path)"
   ]
  },
  {
   "cell_type": "markdown",
   "metadata": {},
   "source": [
    "#### 2. 링크 데이터로 상세 정보 크롤링"
   ]
  },
  {
   "cell_type": "code",
   "execution_count": 8,
   "metadata": {},
   "outputs": [],
   "source": [
    "image_paths = []\n",
    "titles = []\n",
    "prices = []\n",
    "\n",
    "for path in paths:\n",
    "    response = requests.get(path)\n",
    "    dom = BeautifulSoup(response.content, \"html.parser\")\n",
    "    \n",
    "    # images\n",
    "    img_link = dom.select_one('.prod_visual_box')\n",
    "    img_link = img_link.select('img')\n",
    "    image_path = \"http://www.osulloc.com\" + img_link[0].get('src')\n",
    "    image_paths.append(image_path)    \n",
    "    \n",
    "    # titles\n",
    "    title = dom.select_one('.infotit_tit').text\n",
    "    titles.append(title)\n",
    "    \n",
    "    # price\n",
    "    price = dom.select_one('#price-per').text.replace(\"\\n\", \"\")\n",
    "    prices.append(price)"
   ]
  },
  {
   "cell_type": "markdown",
   "metadata": {},
   "source": [
    "#### 3. 데이터 프레임으로 만들기"
   ]
  },
  {
   "cell_type": "code",
   "execution_count": 9,
   "metadata": {},
   "outputs": [
    {
     "data": {
      "text/html": [
       "<div>\n",
       "<style scoped>\n",
       "    .dataframe tbody tr th:only-of-type {\n",
       "        vertical-align: middle;\n",
       "    }\n",
       "\n",
       "    .dataframe tbody tr th {\n",
       "        vertical-align: top;\n",
       "    }\n",
       "\n",
       "    .dataframe thead th {\n",
       "        text-align: right;\n",
       "    }\n",
       "</style>\n",
       "<table border=\"1\" class=\"dataframe\">\n",
       "  <thead>\n",
       "    <tr style=\"text-align: right;\">\n",
       "      <th></th>\n",
       "      <th>titles</th>\n",
       "      <th>images</th>\n",
       "      <th>prices</th>\n",
       "    </tr>\n",
       "  </thead>\n",
       "  <tbody>\n",
       "    <tr>\n",
       "      <th>43</th>\n",
       "      <td>그린컵 225ml(아이보리)</td>\n",
       "      <td>http://www.osulloc.com/kr/ko/upload/adminImage...</td>\n",
       "      <td>9,000원</td>\n",
       "    </tr>\n",
       "    <tr>\n",
       "      <th>44</th>\n",
       "      <td>프리미엄가루발효차 40 g(분말)</td>\n",
       "      <td>http://www.osulloc.com/kr/ko/upload/adminImage...</td>\n",
       "      <td>13,000원</td>\n",
       "    </tr>\n",
       "    <tr>\n",
       "      <th>45</th>\n",
       "      <td>레드파파야블랙티 3입(DIY)</td>\n",
       "      <td>http://www.osulloc.com/kr/ko/upload/adminImage...</td>\n",
       "      <td>4,500원</td>\n",
       "    </tr>\n",
       "    <tr>\n",
       "      <th>46</th>\n",
       "      <td>WATER+ 핑크사워 30입(분말)</td>\n",
       "      <td>http://www.osulloc.com/kr/ko/upload/adminImage...</td>\n",
       "      <td>16,000원</td>\n",
       "    </tr>\n",
       "    <tr>\n",
       "      <th>47</th>\n",
       "      <td>WATER+ 해피스윗 30입(분말)</td>\n",
       "      <td>http://www.osulloc.com/kr/ko/upload/adminImage...</td>\n",
       "      <td>16,000원</td>\n",
       "    </tr>\n",
       "  </tbody>\n",
       "</table>\n",
       "</div>"
      ],
      "text/plain": [
       "                 titles                                             images  \\\n",
       "43      그린컵 225ml(아이보리)  http://www.osulloc.com/kr/ko/upload/adminImage...   \n",
       "44   프리미엄가루발효차 40 g(분말)  http://www.osulloc.com/kr/ko/upload/adminImage...   \n",
       "45     레드파파야블랙티 3입(DIY)  http://www.osulloc.com/kr/ko/upload/adminImage...   \n",
       "46  WATER+ 핑크사워 30입(분말)  http://www.osulloc.com/kr/ko/upload/adminImage...   \n",
       "47  WATER+ 해피스윗 30입(분말)  http://www.osulloc.com/kr/ko/upload/adminImage...   \n",
       "\n",
       "     prices  \n",
       "43   9,000원  \n",
       "44  13,000원  \n",
       "45   4,500원  \n",
       "46  16,000원  \n",
       "47  16,000원  "
      ]
     },
     "execution_count": 9,
     "metadata": {},
     "output_type": "execute_result"
    }
   ],
   "source": [
    "dic = {\n",
    "    \"titles\": titles,\n",
    "    \"images\": image_paths,\n",
    "    \"prices\": prices,\n",
    "}\n",
    "df = pd.DataFrame(dic)\n",
    "df.tail()"
   ]
  }
 ],
 "metadata": {
  "kernelspec": {
   "display_name": "Python 3",
   "language": "python",
   "name": "python3"
  },
  "language_info": {
   "codemirror_mode": {
    "name": "ipython",
    "version": 3
   },
   "file_extension": ".py",
   "mimetype": "text/x-python",
   "name": "python",
   "nbconvert_exporter": "python",
   "pygments_lexer": "ipython3",
   "version": "3.7.3"
  }
 },
 "nbformat": 4,
 "nbformat_minor": 2
}
