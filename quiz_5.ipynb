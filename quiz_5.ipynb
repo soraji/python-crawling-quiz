{
 "cells": [
  {
   "cell_type": "markdown",
   "metadata": {},
   "source": [
    "### Quiz : NBA 데이터 크롤링\n",
    "- 아래와 같이 시작 페이지와 종료페이지를 입력하면 데이터가 크롤링되도록 셀레니움을 이용하여 크롤링하세요.\n",
    "- 크롤링할 페이지 URL\n",
    "    - https://stats.nba.com/events/?flag=3&CFID=155&CFPARAMS=2018-19&TeamID=1610612744&ContextMeasure=FGA&Season=2018-19&section=team&sct=stream\n",
    "- 컬럼데이터도 크롤링해서 사용해 주세요.\n",
    "- 전체 페이지의 갯수도 크롤링을 통해 확인해 주세요."
   ]
  },
  {
   "cell_type": "code",
   "execution_count": 34,
   "metadata": {},
   "outputs": [
    {
     "name": "stdout",
     "output_type": "stream",
     "text": [
      "CPU times: user 6.21 s, sys: 360 ms, total: 6.57 s\n",
      "Wall time: 2min 47s\n"
     ]
    }
   ],
   "source": [
    "%%time\n",
    "result_df = run(1, 10)"
   ]
  },
  {
   "cell_type": "code",
   "execution_count": 35,
   "metadata": {},
   "outputs": [
    {
     "data": {
      "text/html": [
       "<div>\n",
       "<style scoped>\n",
       "    .dataframe tbody tr th:only-of-type {\n",
       "        vertical-align: middle;\n",
       "    }\n",
       "\n",
       "    .dataframe tbody tr th {\n",
       "        vertical-align: top;\n",
       "    }\n",
       "\n",
       "    .dataframe thead th {\n",
       "        text-align: right;\n",
       "    }\n",
       "</style>\n",
       "<table border=\"1\" class=\"dataframe\">\n",
       "  <thead>\n",
       "    <tr style=\"text-align: right;\">\n",
       "      <th></th>\n",
       "      <th>PLAYER</th>\n",
       "      <th>PLAY TYPE</th>\n",
       "      <th>MADE</th>\n",
       "      <th>SHOT TYPE</th>\n",
       "      <th>BOXSCORE</th>\n",
       "      <th>VTM</th>\n",
       "      <th>HTM</th>\n",
       "      <th>GAME DATE</th>\n",
       "      <th>PERIOD</th>\n",
       "      <th>TIME REMAINING</th>\n",
       "      <th>SHOT DISTANCE (FT)</th>\n",
       "      <th>TEAM</th>\n",
       "    </tr>\n",
       "  </thead>\n",
       "  <tbody>\n",
       "    <tr>\n",
       "      <th>495</th>\n",
       "      <td>Stephen Curry</td>\n",
       "      <td>Cutting Layup Shot</td>\n",
       "      <td>Made Shot</td>\n",
       "      <td>2PT Field Goal</td>\n",
       "      <td>Boxscore</td>\n",
       "      <td>GSW</td>\n",
       "      <td>NYK</td>\n",
       "      <td>2018-10-26</td>\n",
       "      <td>1</td>\n",
       "      <td>09:01</td>\n",
       "      <td>0</td>\n",
       "      <td>Golden State Warriors</td>\n",
       "    </tr>\n",
       "    <tr>\n",
       "      <th>496</th>\n",
       "      <td>Kevin Durant</td>\n",
       "      <td>Running Dunk Shot</td>\n",
       "      <td>Made Shot</td>\n",
       "      <td>2PT Field Goal</td>\n",
       "      <td>Boxscore</td>\n",
       "      <td>GSW</td>\n",
       "      <td>NYK</td>\n",
       "      <td>2018-10-26</td>\n",
       "      <td>1</td>\n",
       "      <td>08:35</td>\n",
       "      <td>0</td>\n",
       "      <td>Golden State Warriors</td>\n",
       "    </tr>\n",
       "    <tr>\n",
       "      <th>497</th>\n",
       "      <td>Klay Thompson</td>\n",
       "      <td>Driving Floating Jump Shot</td>\n",
       "      <td>Missed Shot</td>\n",
       "      <td>2PT Field Goal</td>\n",
       "      <td>Boxscore</td>\n",
       "      <td>GSW</td>\n",
       "      <td>NYK</td>\n",
       "      <td>2018-10-26</td>\n",
       "      <td>1</td>\n",
       "      <td>07:35</td>\n",
       "      <td>5</td>\n",
       "      <td>Golden State Warriors</td>\n",
       "    </tr>\n",
       "    <tr>\n",
       "      <th>498</th>\n",
       "      <td>Klay Thompson</td>\n",
       "      <td>Jump Shot</td>\n",
       "      <td>Missed Shot</td>\n",
       "      <td>3PT Field Goal</td>\n",
       "      <td>Boxscore</td>\n",
       "      <td>GSW</td>\n",
       "      <td>NYK</td>\n",
       "      <td>2018-10-26</td>\n",
       "      <td>1</td>\n",
       "      <td>06:59</td>\n",
       "      <td>22</td>\n",
       "      <td>Golden State Warriors</td>\n",
       "    </tr>\n",
       "    <tr>\n",
       "      <th>499</th>\n",
       "      <td>Klay Thompson</td>\n",
       "      <td>Step Back Jump shot</td>\n",
       "      <td>Made Shot</td>\n",
       "      <td>2PT Field Goal</td>\n",
       "      <td>Boxscore</td>\n",
       "      <td>GSW</td>\n",
       "      <td>NYK</td>\n",
       "      <td>2018-10-26</td>\n",
       "      <td>1</td>\n",
       "      <td>06:38</td>\n",
       "      <td>18</td>\n",
       "      <td>Golden State Warriors</td>\n",
       "    </tr>\n",
       "  </tbody>\n",
       "</table>\n",
       "</div>"
      ],
      "text/plain": [
       "            PLAYER                   PLAY TYPE         MADE       SHOT TYPE  \\\n",
       "495  Stephen Curry          Cutting Layup Shot    Made Shot  2PT Field Goal   \n",
       "496   Kevin Durant           Running Dunk Shot    Made Shot  2PT Field Goal   \n",
       "497  Klay Thompson  Driving Floating Jump Shot  Missed Shot  2PT Field Goal   \n",
       "498  Klay Thompson                   Jump Shot  Missed Shot  3PT Field Goal   \n",
       "499  Klay Thompson         Step Back Jump shot    Made Shot  2PT Field Goal   \n",
       "\n",
       "     BOXSCORE  VTM  HTM   GAME DATE PERIOD TIME REMAINING SHOT DISTANCE (FT)  \\\n",
       "495  Boxscore  GSW  NYK  2018-10-26      1          09:01                  0   \n",
       "496  Boxscore  GSW  NYK  2018-10-26      1          08:35                  0   \n",
       "497  Boxscore  GSW  NYK  2018-10-26      1          07:35                  5   \n",
       "498  Boxscore  GSW  NYK  2018-10-26      1          06:59                 22   \n",
       "499  Boxscore  GSW  NYK  2018-10-26      1          06:38                 18   \n",
       "\n",
       "                      TEAM  \n",
       "495  Golden State Warriors  \n",
       "496  Golden State Warriors  \n",
       "497  Golden State Warriors  \n",
       "498  Golden State Warriors  \n",
       "499  Golden State Warriors  "
      ]
     },
     "execution_count": 35,
     "metadata": {},
     "output_type": "execute_result"
    }
   ],
   "source": [
    "# 한페이지에 50개의 데이터가 있습니다. 1페이지에서 10페이지까지 크롤링하면 500개의 데이터가 크롤링 됩니다.\n",
    "result_df.tail()"
   ]
  }
 ],
 "metadata": {
  "kernelspec": {
   "display_name": "Python 3",
   "language": "python",
   "name": "python3"
  },
  "language_info": {
   "codemirror_mode": {
    "name": "ipython",
    "version": 3
   },
   "file_extension": ".py",
   "mimetype": "text/x-python",
   "name": "python",
   "nbconvert_exporter": "python",
   "pygments_lexer": "ipython3",
   "version": "3.7.3"
  }
 },
 "nbformat": 4,
 "nbformat_minor": 2
}
