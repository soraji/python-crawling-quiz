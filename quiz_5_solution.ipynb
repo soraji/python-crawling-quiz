{
 "cells": [
  {
   "cell_type": "code",
   "execution_count": 1,
   "metadata": {},
   "outputs": [],
   "source": [
    "from selenium import webdriver"
   ]
  },
  {
   "cell_type": "markdown",
   "metadata": {},
   "source": [
    "### 1. 크롬 드라이버 열기"
   ]
  },
  {
   "cell_type": "code",
   "execution_count": 2,
   "metadata": {},
   "outputs": [],
   "source": [
    "url = \"https://stats.nba.com/events/?flag=3&CFID=155&CFPARAMS=2018-19&TeamID=1610612744&ContextMeasure=FGA&Season=2018-19&section=team&sct=hex\""
   ]
  },
  {
   "cell_type": "code",
   "execution_count": 3,
   "metadata": {},
   "outputs": [],
   "source": [
    "driver = webdriver.Chrome()"
   ]
  },
  {
   "cell_type": "code",
   "execution_count": 4,
   "metadata": {},
   "outputs": [],
   "source": [
    "driver.get(url)"
   ]
  },
  {
   "cell_type": "markdown",
   "metadata": {},
   "source": [
    "### 2. 컬럼 데이터 크롤링"
   ]
  },
  {
   "cell_type": "code",
   "execution_count": 5,
   "metadata": {},
   "outputs": [
    {
     "data": {
      "text/plain": [
       "13"
      ]
     },
     "execution_count": 5,
     "metadata": {},
     "output_type": "execute_result"
    }
   ],
   "source": [
    "# 컬럼 엘리먼트 선택\n",
    "column_elements = driver.find_elements_by_css_selector(\".nba-stat-table__overflow > table > thead > tr > th\")\n",
    "len(column_elements)"
   ]
  },
  {
   "cell_type": "code",
   "execution_count": 6,
   "metadata": {},
   "outputs": [
    {
     "data": {
      "text/plain": [
       "['PLAYER',\n",
       " 'PLAY TYPE',\n",
       " 'MADE',\n",
       " 'SHOT TYPE',\n",
       " 'BOXSCORE',\n",
       " 'VTM',\n",
       " 'HTM',\n",
       " 'GAME DATE',\n",
       " 'PERIOD',\n",
       " 'TIME REMAINING',\n",
       " 'SHOT DISTANCE (FT)',\n",
       " 'TEAM']"
      ]
     },
     "execution_count": 6,
     "metadata": {},
     "output_type": "execute_result"
    }
   ],
   "source": [
    "# 컬럼 엘리먼트에서 데이터 수집\n",
    "columns = [column.text for column in column_elements[1:]]\n",
    "columns"
   ]
  },
  {
   "cell_type": "markdown",
   "metadata": {},
   "source": [
    "### 3. 선수 데이터 크롤링"
   ]
  },
  {
   "cell_type": "code",
   "execution_count": 7,
   "metadata": {},
   "outputs": [
    {
     "data": {
      "text/plain": [
       "50"
      ]
     },
     "execution_count": 7,
     "metadata": {},
     "output_type": "execute_result"
    }
   ],
   "source": [
    "# 선수별 데이터 엘리먼트 선택\n",
    "data_elements = driver.find_elements_by_css_selector(\".nba-stat-table__overflow > table > tbody > tr\")\n",
    "len(data_elements)"
   ]
  },
  {
   "cell_type": "code",
   "execution_count": 8,
   "metadata": {},
   "outputs": [],
   "source": [
    "%%time\n",
    "# 선수별 엘리먼트에서 데이터 수집\n",
    "datas = []\n",
    "for element in data_elements:\n",
    "    data = {}\n",
    "    for idx, column in enumerate(columns):        \n",
    "        data[column] = element.find_element_by_css_selector(\"td:nth-child({})\".format(idx+2)).text\n",
    "    datas.append(data)"
   ]
  },
  {
   "cell_type": "code",
   "execution_count": 9,
   "metadata": {},
   "outputs": [
    {
     "data": {
      "text/html": [
       "<div>\n",
       "<style scoped>\n",
       "    .dataframe tbody tr th:only-of-type {\n",
       "        vertical-align: middle;\n",
       "    }\n",
       "\n",
       "    .dataframe tbody tr th {\n",
       "        vertical-align: top;\n",
       "    }\n",
       "\n",
       "    .dataframe thead th {\n",
       "        text-align: right;\n",
       "    }\n",
       "</style>\n",
       "<table border=\"1\" class=\"dataframe\">\n",
       "  <thead>\n",
       "    <tr style=\"text-align: right;\">\n",
       "      <th></th>\n",
       "      <th>PLAYER</th>\n",
       "      <th>PLAY TYPE</th>\n",
       "      <th>MADE</th>\n",
       "      <th>SHOT TYPE</th>\n",
       "      <th>BOXSCORE</th>\n",
       "      <th>VTM</th>\n",
       "      <th>HTM</th>\n",
       "      <th>GAME DATE</th>\n",
       "      <th>PERIOD</th>\n",
       "      <th>TIME REMAINING</th>\n",
       "      <th>SHOT DISTANCE (FT)</th>\n",
       "      <th>TEAM</th>\n",
       "    </tr>\n",
       "  </thead>\n",
       "  <tbody>\n",
       "    <tr>\n",
       "      <th>45</th>\n",
       "      <td>Draymond Green</td>\n",
       "      <td>Fadeaway Jump Shot</td>\n",
       "      <td>Missed Shot</td>\n",
       "      <td>2PT Field Goal</td>\n",
       "      <td>Boxscore</td>\n",
       "      <td>OKC</td>\n",
       "      <td>GSW</td>\n",
       "      <td>2018-10-16</td>\n",
       "      <td>3</td>\n",
       "      <td>10:07</td>\n",
       "      <td>10</td>\n",
       "      <td>Golden State Warriors</td>\n",
       "    </tr>\n",
       "    <tr>\n",
       "      <th>46</th>\n",
       "      <td>Stephen Curry</td>\n",
       "      <td>Running Pull-Up Jump Shot</td>\n",
       "      <td>Made Shot</td>\n",
       "      <td>3PT Field Goal</td>\n",
       "      <td>Boxscore</td>\n",
       "      <td>OKC</td>\n",
       "      <td>GSW</td>\n",
       "      <td>2018-10-16</td>\n",
       "      <td>3</td>\n",
       "      <td>09:47</td>\n",
       "      <td>28</td>\n",
       "      <td>Golden State Warriors</td>\n",
       "    </tr>\n",
       "    <tr>\n",
       "      <th>47</th>\n",
       "      <td>Kevin Durant</td>\n",
       "      <td>Jump Shot</td>\n",
       "      <td>Missed Shot</td>\n",
       "      <td>3PT Field Goal</td>\n",
       "      <td>Boxscore</td>\n",
       "      <td>OKC</td>\n",
       "      <td>GSW</td>\n",
       "      <td>2018-10-16</td>\n",
       "      <td>3</td>\n",
       "      <td>09:11</td>\n",
       "      <td>22</td>\n",
       "      <td>Golden State Warriors</td>\n",
       "    </tr>\n",
       "    <tr>\n",
       "      <th>48</th>\n",
       "      <td>Damian Jones</td>\n",
       "      <td>Tip Dunk Shot</td>\n",
       "      <td>Made Shot</td>\n",
       "      <td>2PT Field Goal</td>\n",
       "      <td>Boxscore</td>\n",
       "      <td>OKC</td>\n",
       "      <td>GSW</td>\n",
       "      <td>2018-10-16</td>\n",
       "      <td>3</td>\n",
       "      <td>09:08</td>\n",
       "      <td>0</td>\n",
       "      <td>Golden State Warriors</td>\n",
       "    </tr>\n",
       "    <tr>\n",
       "      <th>49</th>\n",
       "      <td>Kevin Durant</td>\n",
       "      <td>Pullup Jump shot</td>\n",
       "      <td>Made Shot</td>\n",
       "      <td>2PT Field Goal</td>\n",
       "      <td>Boxscore</td>\n",
       "      <td>OKC</td>\n",
       "      <td>GSW</td>\n",
       "      <td>2018-10-16</td>\n",
       "      <td>3</td>\n",
       "      <td>08:29</td>\n",
       "      <td>18</td>\n",
       "      <td>Golden State Warriors</td>\n",
       "    </tr>\n",
       "  </tbody>\n",
       "</table>\n",
       "</div>"
      ],
      "text/plain": [
       "            PLAYER                  PLAY TYPE         MADE       SHOT TYPE  \\\n",
       "45  Draymond Green         Fadeaway Jump Shot  Missed Shot  2PT Field Goal   \n",
       "46   Stephen Curry  Running Pull-Up Jump Shot    Made Shot  3PT Field Goal   \n",
       "47    Kevin Durant                  Jump Shot  Missed Shot  3PT Field Goal   \n",
       "48    Damian Jones              Tip Dunk Shot    Made Shot  2PT Field Goal   \n",
       "49    Kevin Durant           Pullup Jump shot    Made Shot  2PT Field Goal   \n",
       "\n",
       "    BOXSCORE  VTM  HTM   GAME DATE PERIOD TIME REMAINING SHOT DISTANCE (FT)  \\\n",
       "45  Boxscore  OKC  GSW  2018-10-16      3          10:07                 10   \n",
       "46  Boxscore  OKC  GSW  2018-10-16      3          09:47                 28   \n",
       "47  Boxscore  OKC  GSW  2018-10-16      3          09:11                 22   \n",
       "48  Boxscore  OKC  GSW  2018-10-16      3          09:08                  0   \n",
       "49  Boxscore  OKC  GSW  2018-10-16      3          08:29                 18   \n",
       "\n",
       "                     TEAM  \n",
       "45  Golden State Warriors  \n",
       "46  Golden State Warriors  \n",
       "47  Golden State Warriors  \n",
       "48  Golden State Warriors  \n",
       "49  Golden State Warriors  "
      ]
     },
     "execution_count": 9,
     "metadata": {},
     "output_type": "execute_result"
    }
   ],
   "source": [
    "# 데이터 프레임으로 만듦\n",
    "df = pd.DataFrame(datas)\n",
    "df = df[columns]\n",
    "df.tail()"
   ]
  },
  {
   "cell_type": "markdown",
   "metadata": {},
   "source": [
    "### 4. 페이지 이동"
   ]
  },
  {
   "cell_type": "code",
   "execution_count": 17,
   "metadata": {},
   "outputs": [
    {
     "data": {
      "text/plain": [
       "148"
      ]
     },
     "execution_count": 17,
     "metadata": {},
     "output_type": "execute_result"
    }
   ],
   "source": [
    "# 전체 페이지의 갯수\n",
    "page_elements = driver.find_elements_by_xpath(\"/html/body/main/div[2]/div/div[2]/div/div/nba-stat-table/div[1]/div/div/select/option\")\n",
    "total_pages = len(page_elements) - 1\n",
    "total_pages"
   ]
  },
  {
   "cell_type": "code",
   "execution_count": 18,
   "metadata": {},
   "outputs": [],
   "source": [
    "# 페이지 이동\n",
    "page = 5\n",
    "page_elements[page].click()"
   ]
  },
  {
   "cell_type": "markdown",
   "metadata": {},
   "source": [
    "### 5. 브라우져 종료"
   ]
  },
  {
   "cell_type": "code",
   "execution_count": 11,
   "metadata": {},
   "outputs": [],
   "source": [
    "# 브라우져 종료\n",
    "# driver.quit()"
   ]
  },
  {
   "cell_type": "markdown",
   "metadata": {},
   "source": [
    "### 6. 함수로 만들어서 모든 데이터 크롤링"
   ]
  },
  {
   "cell_type": "code",
   "execution_count": 19,
   "metadata": {},
   "outputs": [],
   "source": [
    "# 드라이버 만들기\n",
    "def make_driver():\n",
    "    url = \"https://stats.nba.com/events/?flag=3&CFID=155&CFPARAMS=2018-19&TeamID=1610612744&ContextMeasure=FGA&Season=2018-19&section=team&sct=hex\"\n",
    "    driver = webdriver.Chrome()\n",
    "    driver.get(url)\n",
    "    return driver"
   ]
  },
  {
   "cell_type": "code",
   "execution_count": 20,
   "metadata": {},
   "outputs": [],
   "source": [
    "# 컬럼 데이터 크롤링\n",
    "def crawling_columns(driver):\n",
    "    column_elements = driver.find_elements_by_css_selector(\".nba-stat-table__overflow > table > thead > tr > th\")\n",
    "    return [column.text for column in column_elements[1:]]"
   ]
  },
  {
   "cell_type": "code",
   "execution_count": 29,
   "metadata": {},
   "outputs": [],
   "source": [
    "# 선수 데이터 크롤링 후 데이터 프레임으로 리턴\n",
    "def crawling_players(driver, columns):\n",
    "    data_elements = driver.find_elements_by_css_selector(\".nba-stat-table__overflow > table > tbody > tr\")\n",
    "    datas = []\n",
    "    for element in data_elements:\n",
    "        data = {}\n",
    "        for idx, column in enumerate(columns):        \n",
    "            data[column] = element.find_element_by_css_selector(\"td:nth-child({})\".format(idx+2)).text\n",
    "        datas.append(data)\n",
    "        \n",
    "    df = pd.DataFrame(datas)\n",
    "    return df[columns]"
   ]
  },
  {
   "cell_type": "code",
   "execution_count": 23,
   "metadata": {},
   "outputs": [],
   "source": [
    "# 전체 페이지 확인\n",
    "def total_page(driver):\n",
    "    page_elements = driver.find_elements_by_xpath(\"/html/body/main/div[2]/div/div[2]/div/div/nba-stat-table/div[1]/div/div/select/option\")\n",
    "    return len(page_elements) - 1"
   ]
  },
  {
   "cell_type": "code",
   "execution_count": 22,
   "metadata": {},
   "outputs": [],
   "source": [
    "# 페이지 이동\n",
    "def move_page(driver, page):\n",
    "    page_elements = driver.find_elements_by_xpath(\"/html/body/main/div[2]/div/div[2]/div/div/nba-stat-table/div[1]/div/div/select/option\")\n",
    "    page_elements[page].click()"
   ]
  },
  {
   "cell_type": "code",
   "execution_count": 24,
   "metadata": {},
   "outputs": [
    {
     "name": "stdout",
     "output_type": "stream",
     "text": [
      "148\n"
     ]
    }
   ],
   "source": [
    "# 전체 페이지확인\n",
    "driver = make_driver()\n",
    "result = total_page(driver)\n",
    "driver.quit()\n",
    "print(result)"
   ]
  },
  {
   "cell_type": "code",
   "execution_count": 25,
   "metadata": {},
   "outputs": [],
   "source": [
    "driver = make_driver()"
   ]
  },
  {
   "cell_type": "code",
   "execution_count": 26,
   "metadata": {},
   "outputs": [],
   "source": [
    "columns = crawling_columns(driver)"
   ]
  },
  {
   "cell_type": "code",
   "execution_count": 27,
   "metadata": {},
   "outputs": [],
   "source": [
    "player_dfs = []"
   ]
  },
  {
   "cell_type": "code",
   "execution_count": 30,
   "metadata": {},
   "outputs": [],
   "source": [
    "start, end = 1, 2\n",
    "for page in range(start, end + 1):\n",
    "    player_df = crawling_players(driver, columns)\n",
    "    player_dfs.append(player_df)\n",
    "    move_page(driver, page)"
   ]
  },
  {
   "cell_type": "code",
   "execution_count": 31,
   "metadata": {},
   "outputs": [
    {
     "data": {
      "text/html": [
       "<div>\n",
       "<style scoped>\n",
       "    .dataframe tbody tr th:only-of-type {\n",
       "        vertical-align: middle;\n",
       "    }\n",
       "\n",
       "    .dataframe tbody tr th {\n",
       "        vertical-align: top;\n",
       "    }\n",
       "\n",
       "    .dataframe thead th {\n",
       "        text-align: right;\n",
       "    }\n",
       "</style>\n",
       "<table border=\"1\" class=\"dataframe\">\n",
       "  <thead>\n",
       "    <tr style=\"text-align: right;\">\n",
       "      <th></th>\n",
       "      <th>PLAY TYPE</th>\n",
       "      <th>MADE</th>\n",
       "      <th>SHOT TYPE</th>\n",
       "      <th>BOXSCORE</th>\n",
       "      <th>PERIOD</th>\n",
       "      <th>TIME REMAINING</th>\n",
       "      <th>SHOT DISTANCE (FT)</th>\n",
       "      <th>TEAM</th>\n",
       "    </tr>\n",
       "  </thead>\n",
       "  <tbody>\n",
       "    <tr>\n",
       "      <th>95</th>\n",
       "      <td>Fadeaway Jump Shot</td>\n",
       "      <td>Missed Shot</td>\n",
       "      <td>2PT Field Goal</td>\n",
       "      <td>Boxscore</td>\n",
       "      <td>3</td>\n",
       "      <td>10:07</td>\n",
       "      <td>10</td>\n",
       "      <td>Golden State Warriors</td>\n",
       "    </tr>\n",
       "    <tr>\n",
       "      <th>96</th>\n",
       "      <td>Running Pull-Up Jump Shot</td>\n",
       "      <td>Made Shot</td>\n",
       "      <td>3PT Field Goal</td>\n",
       "      <td>Boxscore</td>\n",
       "      <td>3</td>\n",
       "      <td>09:47</td>\n",
       "      <td>28</td>\n",
       "      <td>Golden State Warriors</td>\n",
       "    </tr>\n",
       "    <tr>\n",
       "      <th>97</th>\n",
       "      <td>Jump Shot</td>\n",
       "      <td>Missed Shot</td>\n",
       "      <td>3PT Field Goal</td>\n",
       "      <td>Boxscore</td>\n",
       "      <td>3</td>\n",
       "      <td>09:11</td>\n",
       "      <td>22</td>\n",
       "      <td>Golden State Warriors</td>\n",
       "    </tr>\n",
       "    <tr>\n",
       "      <th>98</th>\n",
       "      <td>Tip Dunk Shot</td>\n",
       "      <td>Made Shot</td>\n",
       "      <td>2PT Field Goal</td>\n",
       "      <td>Boxscore</td>\n",
       "      <td>3</td>\n",
       "      <td>09:08</td>\n",
       "      <td>0</td>\n",
       "      <td>Golden State Warriors</td>\n",
       "    </tr>\n",
       "    <tr>\n",
       "      <th>99</th>\n",
       "      <td>Pullup Jump shot</td>\n",
       "      <td>Made Shot</td>\n",
       "      <td>2PT Field Goal</td>\n",
       "      <td>Boxscore</td>\n",
       "      <td>3</td>\n",
       "      <td>08:29</td>\n",
       "      <td>18</td>\n",
       "      <td>Golden State Warriors</td>\n",
       "    </tr>\n",
       "  </tbody>\n",
       "</table>\n",
       "</div>"
      ],
      "text/plain": [
       "                    PLAY TYPE         MADE       SHOT TYPE  BOXSCORE PERIOD  \\\n",
       "95         Fadeaway Jump Shot  Missed Shot  2PT Field Goal  Boxscore      3   \n",
       "96  Running Pull-Up Jump Shot    Made Shot  3PT Field Goal  Boxscore      3   \n",
       "97                  Jump Shot  Missed Shot  3PT Field Goal  Boxscore      3   \n",
       "98              Tip Dunk Shot    Made Shot  2PT Field Goal  Boxscore      3   \n",
       "99           Pullup Jump shot    Made Shot  2PT Field Goal  Boxscore      3   \n",
       "\n",
       "   TIME REMAINING SHOT DISTANCE (FT)                   TEAM  \n",
       "95          10:07                 10  Golden State Warriors  \n",
       "96          09:47                 28  Golden State Warriors  \n",
       "97          09:11                 22  Golden State Warriors  \n",
       "98          09:08                  0  Golden State Warriors  \n",
       "99          08:29                 18  Golden State Warriors  "
      ]
     },
     "execution_count": 31,
     "metadata": {},
     "output_type": "execute_result"
    }
   ],
   "source": [
    "df = pd.concat(player_dfs, ignore_index=True, sort=False)\n",
    "df.tail()"
   ]
  },
  {
   "cell_type": "code",
   "execution_count": 33,
   "metadata": {},
   "outputs": [],
   "source": [
    "driver.quit()"
   ]
  },
  {
   "cell_type": "code",
   "execution_count": 32,
   "metadata": {},
   "outputs": [],
   "source": [
    "# 페이지 설정하면 설정한 만큼 데이터 크롤링\n",
    "def run(start, end):\n",
    "    driver = make_driver()\n",
    "    columns = crawling_columns(driver)\n",
    "    player_dfs = []\n",
    "    for page in range(start, end + 1):\n",
    "        player_df = crawling_players(driver, columns)\n",
    "        player_dfs.append(player_df)\n",
    "        move_page(driver, page)\n",
    "    driver.quit()\n",
    "    return pd.concat(player_dfs, ignore_index=True, sort=False)"
   ]
  },
  {
   "cell_type": "code",
   "execution_count": 34,
   "metadata": {},
   "outputs": [
    {
     "name": "stdout",
     "output_type": "stream",
     "text": [
      "CPU times: user 6.21 s, sys: 360 ms, total: 6.57 s\n",
      "Wall time: 2min 47s\n"
     ]
    }
   ],
   "source": [
    "%%time\n",
    "result_df = run(1, 10)"
   ]
  },
  {
   "cell_type": "code",
   "execution_count": 35,
   "metadata": {},
   "outputs": [
    {
     "data": {
      "text/html": [
       "<div>\n",
       "<style scoped>\n",
       "    .dataframe tbody tr th:only-of-type {\n",
       "        vertical-align: middle;\n",
       "    }\n",
       "\n",
       "    .dataframe tbody tr th {\n",
       "        vertical-align: top;\n",
       "    }\n",
       "\n",
       "    .dataframe thead th {\n",
       "        text-align: right;\n",
       "    }\n",
       "</style>\n",
       "<table border=\"1\" class=\"dataframe\">\n",
       "  <thead>\n",
       "    <tr style=\"text-align: right;\">\n",
       "      <th></th>\n",
       "      <th>PLAYER</th>\n",
       "      <th>PLAY TYPE</th>\n",
       "      <th>MADE</th>\n",
       "      <th>SHOT TYPE</th>\n",
       "      <th>BOXSCORE</th>\n",
       "      <th>VTM</th>\n",
       "      <th>HTM</th>\n",
       "      <th>GAME DATE</th>\n",
       "      <th>PERIOD</th>\n",
       "      <th>TIME REMAINING</th>\n",
       "      <th>SHOT DISTANCE (FT)</th>\n",
       "      <th>TEAM</th>\n",
       "    </tr>\n",
       "  </thead>\n",
       "  <tbody>\n",
       "    <tr>\n",
       "      <th>495</th>\n",
       "      <td>Stephen Curry</td>\n",
       "      <td>Cutting Layup Shot</td>\n",
       "      <td>Made Shot</td>\n",
       "      <td>2PT Field Goal</td>\n",
       "      <td>Boxscore</td>\n",
       "      <td>GSW</td>\n",
       "      <td>NYK</td>\n",
       "      <td>2018-10-26</td>\n",
       "      <td>1</td>\n",
       "      <td>09:01</td>\n",
       "      <td>0</td>\n",
       "      <td>Golden State Warriors</td>\n",
       "    </tr>\n",
       "    <tr>\n",
       "      <th>496</th>\n",
       "      <td>Kevin Durant</td>\n",
       "      <td>Running Dunk Shot</td>\n",
       "      <td>Made Shot</td>\n",
       "      <td>2PT Field Goal</td>\n",
       "      <td>Boxscore</td>\n",
       "      <td>GSW</td>\n",
       "      <td>NYK</td>\n",
       "      <td>2018-10-26</td>\n",
       "      <td>1</td>\n",
       "      <td>08:35</td>\n",
       "      <td>0</td>\n",
       "      <td>Golden State Warriors</td>\n",
       "    </tr>\n",
       "    <tr>\n",
       "      <th>497</th>\n",
       "      <td>Klay Thompson</td>\n",
       "      <td>Driving Floating Jump Shot</td>\n",
       "      <td>Missed Shot</td>\n",
       "      <td>2PT Field Goal</td>\n",
       "      <td>Boxscore</td>\n",
       "      <td>GSW</td>\n",
       "      <td>NYK</td>\n",
       "      <td>2018-10-26</td>\n",
       "      <td>1</td>\n",
       "      <td>07:35</td>\n",
       "      <td>5</td>\n",
       "      <td>Golden State Warriors</td>\n",
       "    </tr>\n",
       "    <tr>\n",
       "      <th>498</th>\n",
       "      <td>Klay Thompson</td>\n",
       "      <td>Jump Shot</td>\n",
       "      <td>Missed Shot</td>\n",
       "      <td>3PT Field Goal</td>\n",
       "      <td>Boxscore</td>\n",
       "      <td>GSW</td>\n",
       "      <td>NYK</td>\n",
       "      <td>2018-10-26</td>\n",
       "      <td>1</td>\n",
       "      <td>06:59</td>\n",
       "      <td>22</td>\n",
       "      <td>Golden State Warriors</td>\n",
       "    </tr>\n",
       "    <tr>\n",
       "      <th>499</th>\n",
       "      <td>Klay Thompson</td>\n",
       "      <td>Step Back Jump shot</td>\n",
       "      <td>Made Shot</td>\n",
       "      <td>2PT Field Goal</td>\n",
       "      <td>Boxscore</td>\n",
       "      <td>GSW</td>\n",
       "      <td>NYK</td>\n",
       "      <td>2018-10-26</td>\n",
       "      <td>1</td>\n",
       "      <td>06:38</td>\n",
       "      <td>18</td>\n",
       "      <td>Golden State Warriors</td>\n",
       "    </tr>\n",
       "  </tbody>\n",
       "</table>\n",
       "</div>"
      ],
      "text/plain": [
       "            PLAYER                   PLAY TYPE         MADE       SHOT TYPE  \\\n",
       "495  Stephen Curry          Cutting Layup Shot    Made Shot  2PT Field Goal   \n",
       "496   Kevin Durant           Running Dunk Shot    Made Shot  2PT Field Goal   \n",
       "497  Klay Thompson  Driving Floating Jump Shot  Missed Shot  2PT Field Goal   \n",
       "498  Klay Thompson                   Jump Shot  Missed Shot  3PT Field Goal   \n",
       "499  Klay Thompson         Step Back Jump shot    Made Shot  2PT Field Goal   \n",
       "\n",
       "     BOXSCORE  VTM  HTM   GAME DATE PERIOD TIME REMAINING SHOT DISTANCE (FT)  \\\n",
       "495  Boxscore  GSW  NYK  2018-10-26      1          09:01                  0   \n",
       "496  Boxscore  GSW  NYK  2018-10-26      1          08:35                  0   \n",
       "497  Boxscore  GSW  NYK  2018-10-26      1          07:35                  5   \n",
       "498  Boxscore  GSW  NYK  2018-10-26      1          06:59                 22   \n",
       "499  Boxscore  GSW  NYK  2018-10-26      1          06:38                 18   \n",
       "\n",
       "                      TEAM  \n",
       "495  Golden State Warriors  \n",
       "496  Golden State Warriors  \n",
       "497  Golden State Warriors  \n",
       "498  Golden State Warriors  \n",
       "499  Golden State Warriors  "
      ]
     },
     "execution_count": 35,
     "metadata": {},
     "output_type": "execute_result"
    }
   ],
   "source": [
    "result_df.tail()"
   ]
  }
 ],
 "metadata": {
  "kernelspec": {
   "display_name": "Python 3",
   "language": "python",
   "name": "python3"
  },
  "language_info": {
   "codemirror_mode": {
    "name": "ipython",
    "version": 3
   },
   "file_extension": ".py",
   "mimetype": "text/x-python",
   "name": "python",
   "nbconvert_exporter": "python",
   "pygments_lexer": "ipython3",
   "version": "3.7.3"
  }
 },
 "nbformat": 4,
 "nbformat_minor": 2
}
