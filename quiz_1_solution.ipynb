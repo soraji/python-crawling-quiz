{
 "cells": [
  {
   "cell_type": "markdown",
   "metadata": {},
   "source": [
    "### Quiz 1\n",
    "\n",
    "- data 변수를 선언하여 문자열 오프셋을 이용하여\n",
    "\n",
    "    `data = \"0123456789\"`\n",
    "    \n",
    "    \n",
    "- 짝수만 거꾸로 출력되도록 코드를 작성하세요.\n",
    "\n",
    "    `86420`"
   ]
  },
  {
   "cell_type": "code",
   "execution_count": 1,
   "metadata": {},
   "outputs": [
    {
     "name": "stdout",
     "output_type": "stream",
     "text": [
      "86420\n"
     ]
    }
   ],
   "source": [
    "data = \"0123456789\"\n",
    "print(data[::2][::-1])"
   ]
  },
  {
   "cell_type": "markdown",
   "metadata": {},
   "source": [
    "### Quiz 2\n",
    "- 'Beautiful is better than ugly.' 문장을 단어의 길이가 긴 단어 순으로 정렬하는 코드로 만드세요. \n",
    "- 리스트에서 단어의 길이 순으로 오름차순 정렬 `list.sort(key=len)` \n",
    "\n",
    "    `sentence = \"Beautiful is better than ugly.\"`\n",
    "\n",
    "- 결과\n",
    "    \n",
    "    `Beautiful better ugly than is.`"
   ]
  },
  {
   "cell_type": "code",
   "execution_count": 2,
   "metadata": {},
   "outputs": [
    {
     "data": {
      "text/plain": [
       "'Beautiful better ugly than is.'"
      ]
     },
     "execution_count": 2,
     "metadata": {},
     "output_type": "execute_result"
    }
   ],
   "source": [
    "sentence = \"Beautiful is better than ugly.\"\n",
    "\n",
    "# 소문자로 변환\n",
    "result = sentence.lower()\n",
    "\n",
    "# 마침표 제거\n",
    "result = result[:-1]\n",
    "\n",
    "# 리스트로 변경\n",
    "result = result.split(\" \")\n",
    "\n",
    "# 오름차순 정렬\n",
    "result.sort(key=len)\n",
    "\n",
    "# 순서 변경\n",
    "# result.reverse()\n",
    "result = result[::-1]\n",
    "\n",
    "# 리스트를 문자열로 변경\n",
    "result = \" \".join(result)\n",
    "\n",
    "# 가장 앞글자 대문자로 변경\n",
    "result = result[0].upper() + result[1:]\n",
    "\n",
    "# 마침표 추가\n",
    "result = result + \".\"\n",
    "\n",
    "result"
   ]
  },
  {
   "cell_type": "markdown",
   "metadata": {},
   "source": [
    "##### Quiz 3\n",
    "- 로또번호를 출력하는 코드를 작성하세요. 1 ~ 45 사이의 숫자를 랜덤으로 뽑되 숫자가 중복되면 안됩니다.\n",
    "- while, break, if, in, list, append 사용\n",
    "\n",
    "```\n",
    "[3, 8, 15, 22, 27, 29]\n",
    "```"
   ]
  },
  {
   "cell_type": "code",
   "execution_count": 3,
   "metadata": {},
   "outputs": [
    {
     "data": {
      "text/plain": [
       "[12, 21, 31, 38, 40, 42]"
      ]
     },
     "execution_count": 3,
     "metadata": {},
     "output_type": "execute_result"
    }
   ],
   "source": [
    "import random\n",
    "\n",
    "lotto = []\n",
    "\n",
    "while True:\n",
    "\n",
    "    number = random.randint(1, 45)\n",
    "\n",
    "    if number not in lotto:\n",
    "        lotto.append(number)\n",
    "\n",
    "    if len(lotto) >= 6:\n",
    "        lotto.sort()\n",
    "        break\n",
    "\n",
    "lotto"
   ]
  },
  {
   "cell_type": "markdown",
   "metadata": {},
   "source": [
    "##### Quiz 4\n",
    "- 마법사(Wizard), 전사(Warrior) 클래스를 생성하세요.\n",
    "- 마법사의 공격력은 10 ~ 50이고, 체력은 100\n",
    "- 전사의 공격력은 20 ~ 30이고, 체력은 110\n",
    "- 공격력은 최소와 최대 공격력이 있고 공격할때 마다 최소와 최대 공격력사이의 랜덤한 값으로 공격력이 설정됩니다.\n",
    "- 각 클래스는 공격하는 기능과 현재 상태를 확인하는 기능이 있습니다.\n",
    "- 마법사 3명과 전사 4명이 싸울경우 누가 이기는지 확인하는 코드를 작성하세요."
   ]
  },
  {
   "cell_type": "code",
   "execution_count": 4,
   "metadata": {},
   "outputs": [],
   "source": [
    "import random"
   ]
  },
  {
   "cell_type": "code",
   "execution_count": 8,
   "metadata": {},
   "outputs": [],
   "source": [
    "class Unit:\n",
    "    \n",
    "    def attack(self, obj):\n",
    "        attack_pow = random.randint(self.min_attack_pow, self.max_attack_pow)\n",
    "        obj.health -= attack_pow\n",
    "        obj.health = 0 if obj.health < 0 else obj.health\n",
    "        print(\"{} 공격력 {}로 공격!!\".format(self.cls, attack_pow))\n",
    "        print(\"{} 남은 체력 : {}\".format(obj.cls, obj.health))\n",
    "        return obj.health\n",
    "\n",
    "    def disp(self):\n",
    "        print(\"클래스 : {}, 체력 : {}, 최소 공격력 : {}, 최대 공격력 : {}\".format(\n",
    "            self.cls, self.health, self.min_attack_pow, self.max_attack_pow))\n",
    "    "
   ]
  },
  {
   "cell_type": "code",
   "execution_count": 9,
   "metadata": {},
   "outputs": [],
   "source": [
    "class Wizard(Unit):\n",
    "\n",
    "    def __init__(self):\n",
    "        self.cls = \"Wizard\"\n",
    "        self.health = 100\n",
    "        self.min_attack_pow = 10\n",
    "        self.max_attack_pow = 50"
   ]
  },
  {
   "cell_type": "code",
   "execution_count": 10,
   "metadata": {},
   "outputs": [],
   "source": [
    "class Warrior(Unit):\n",
    "    \n",
    "    def __init__(self):\n",
    "        self.cls = \"Warrior\"\n",
    "        self.health = 110\n",
    "        self.min_attack_pow = 20\n",
    "        self.max_attack_pow = 30"
   ]
  },
  {
   "cell_type": "code",
   "execution_count": 11,
   "metadata": {},
   "outputs": [
    {
     "name": "stdout",
     "output_type": "stream",
     "text": [
      "클래스 : Wizard, 체력 : 100, 최소 공격력 : 10, 최대 공격력 : 50\n",
      "클래스 : Warrior, 체력 : 110, 최소 공격력 : 20, 최대 공격력 : 30\n"
     ]
    }
   ],
   "source": [
    "wizard = Wizard()\n",
    "warrior = Warrior()\n",
    "wizard.disp()\n",
    "warrior.disp()"
   ]
  },
  {
   "cell_type": "code",
   "execution_count": 12,
   "metadata": {
    "scrolled": true
   },
   "outputs": [
    {
     "name": "stdout",
     "output_type": "stream",
     "text": [
      "\n",
      "턴:1\n",
      "남은 유닛 : 팀1:3, 팀2:4\n",
      "team1 턴\n",
      "Wizard 공격력 44로 공격!!\n",
      "Warrior 남은 체력 : 66\n",
      "team2 턴\n",
      "Warrior 공격력 23로 공격!!\n",
      "Wizard 남은 체력 : 77\n",
      "\n",
      "턴:2\n",
      "남은 유닛 : 팀1:3, 팀2:4\n",
      "team1 턴\n",
      "Wizard 공격력 28로 공격!!\n",
      "Warrior 남은 체력 : 38\n",
      "team2 턴\n",
      "Warrior 공격력 27로 공격!!\n",
      "Wizard 남은 체력 : 50\n",
      "\n",
      "턴:3\n",
      "남은 유닛 : 팀1:3, 팀2:4\n",
      "team1 턴\n",
      "Wizard 공격력 13로 공격!!\n",
      "Warrior 남은 체력 : 25\n",
      "team2 턴\n",
      "Warrior 공격력 20로 공격!!\n",
      "Wizard 남은 체력 : 30\n",
      "\n",
      "턴:4\n",
      "남은 유닛 : 팀1:3, 팀2:4\n",
      "team1 턴\n",
      "Wizard 공격력 12로 공격!!\n",
      "Warrior 남은 체력 : 13\n",
      "team2 턴\n",
      "Warrior 공격력 26로 공격!!\n",
      "Wizard 남은 체력 : 4\n",
      "\n",
      "턴:5\n",
      "남은 유닛 : 팀1:3, 팀2:4\n",
      "team1 턴\n",
      "Wizard 공격력 43로 공격!!\n",
      "Warrior 남은 체력 : 0\n",
      "\n",
      "턴:6\n",
      "남은 유닛 : 팀1:3, 팀2:3\n",
      "team1 턴\n",
      "Wizard 공격력 37로 공격!!\n",
      "Warrior 남은 체력 : 73\n",
      "team2 턴\n",
      "Warrior 공격력 28로 공격!!\n",
      "Wizard 남은 체력 : 0\n",
      "\n",
      "턴:7\n",
      "남은 유닛 : 팀1:2, 팀2:3\n",
      "team1 턴\n",
      "Wizard 공격력 21로 공격!!\n",
      "Warrior 남은 체력 : 52\n",
      "team2 턴\n",
      "Warrior 공격력 24로 공격!!\n",
      "Wizard 남은 체력 : 76\n",
      "\n",
      "턴:8\n",
      "남은 유닛 : 팀1:2, 팀2:3\n",
      "team1 턴\n",
      "Wizard 공격력 28로 공격!!\n",
      "Warrior 남은 체력 : 24\n",
      "team2 턴\n",
      "Warrior 공격력 20로 공격!!\n",
      "Wizard 남은 체력 : 56\n",
      "\n",
      "턴:9\n",
      "남은 유닛 : 팀1:2, 팀2:3\n",
      "team1 턴\n",
      "Wizard 공격력 46로 공격!!\n",
      "Warrior 남은 체력 : 0\n",
      "\n",
      "턴:10\n",
      "남은 유닛 : 팀1:2, 팀2:2\n",
      "team1 턴\n",
      "Wizard 공격력 19로 공격!!\n",
      "Warrior 남은 체력 : 91\n",
      "team2 턴\n",
      "Warrior 공격력 21로 공격!!\n",
      "Wizard 남은 체력 : 35\n",
      "\n",
      "턴:11\n",
      "남은 유닛 : 팀1:2, 팀2:2\n",
      "team1 턴\n",
      "Wizard 공격력 34로 공격!!\n",
      "Warrior 남은 체력 : 57\n",
      "team2 턴\n",
      "Warrior 공격력 25로 공격!!\n",
      "Wizard 남은 체력 : 10\n",
      "\n",
      "턴:12\n",
      "남은 유닛 : 팀1:2, 팀2:2\n",
      "team1 턴\n",
      "Wizard 공격력 46로 공격!!\n",
      "Warrior 남은 체력 : 11\n",
      "team2 턴\n",
      "Warrior 공격력 24로 공격!!\n",
      "Wizard 남은 체력 : 0\n",
      "\n",
      "턴:13\n",
      "남은 유닛 : 팀1:1, 팀2:2\n",
      "team1 턴\n",
      "Wizard 공격력 37로 공격!!\n",
      "Warrior 남은 체력 : 0\n",
      "\n",
      "턴:14\n",
      "남은 유닛 : 팀1:1, 팀2:1\n",
      "team1 턴\n",
      "Wizard 공격력 13로 공격!!\n",
      "Warrior 남은 체력 : 97\n",
      "team2 턴\n",
      "Warrior 공격력 25로 공격!!\n",
      "Wizard 남은 체력 : 75\n",
      "\n",
      "턴:15\n",
      "남은 유닛 : 팀1:1, 팀2:1\n",
      "team1 턴\n",
      "Wizard 공격력 31로 공격!!\n",
      "Warrior 남은 체력 : 66\n",
      "team2 턴\n",
      "Warrior 공격력 20로 공격!!\n",
      "Wizard 남은 체력 : 55\n",
      "\n",
      "턴:16\n",
      "남은 유닛 : 팀1:1, 팀2:1\n",
      "team1 턴\n",
      "Wizard 공격력 23로 공격!!\n",
      "Warrior 남은 체력 : 43\n",
      "team2 턴\n",
      "Warrior 공격력 28로 공격!!\n",
      "Wizard 남은 체력 : 27\n",
      "\n",
      "턴:17\n",
      "남은 유닛 : 팀1:1, 팀2:1\n",
      "team1 턴\n",
      "Wizard 공격력 22로 공격!!\n",
      "Warrior 남은 체력 : 21\n",
      "team2 턴\n",
      "Warrior 공격력 30로 공격!!\n",
      "Wizard 남은 체력 : 0\n",
      "\n",
      "결과 : team2 승리\n",
      "남은 유닛 : 팀1:0, 팀2:1\n"
     ]
    }
   ],
   "source": [
    "team1 = [Wizard(), Wizard(), Wizard()]\n",
    "team2 = [Warrior(), Warrior(), Warrior(), Warrior()]\n",
    "\n",
    "def fight(team1, team2):\n",
    "    \n",
    "    turn = 0\n",
    "    \n",
    "    while team1 and team2:\n",
    "        turn += 1\n",
    "        print(\"\\n턴:{}\".format(turn))\n",
    "        print(\"남은 유닛 : 팀1:{}, 팀2:{}\".format(len(team1), len(team2)))\n",
    "        \n",
    "        print(\"team1 턴\")\n",
    "        health = team1[0].attack(team2[0]) \n",
    "        if health == 0:\n",
    "            del team2[0]\n",
    "            continue\n",
    "            \n",
    "        print(\"team2 턴\")\n",
    "        health = team2[0].attack(team1[0]) \n",
    "        if health == 0:\n",
    "            del team1[0]\n",
    "            continue\n",
    "            \n",
    "    result = \"team1 승리\" if len(team1) > len(team2) else \"team2 승리\"\n",
    "    print(\"\\n결과 : {}\".format(result))\n",
    "    print(\"남은 유닛 : 팀1:{}, 팀2:{}\".format(len(team1), len(team2)))\n",
    "\n",
    "fight(team1, team2)"
   ]
  },
  {
   "cell_type": "markdown",
   "metadata": {},
   "source": [
    "##### Quiz 5\n",
    "- `1234-5678-2345-6789` `1234 5678 2345-6789` 와 같은 카드 번호가 입력되면 가장 마지막 4자리를 `*`로 변경하는 코드를 작성하세요.\n",
    "```\n",
    "comment = \"저의 카드 번호는 1234-2331-1123-9485와 7384 1234 5432 1222와 73841234-5432 1222 입니다.\"\n",
    "```"
   ]
  },
  {
   "cell_type": "code",
   "execution_count": 13,
   "metadata": {},
   "outputs": [
    {
     "name": "stdout",
     "output_type": "stream",
     "text": [
      "[('1234', '2331', '1123', '9485'), ('7384', '1234', '5432', '1222'), ('7384', '1234', '5432', '1222')]\n"
     ]
    },
    {
     "data": {
      "text/plain": [
       "'저의 카드 번호는 1234-2331-1123-****와 7384-1234-5432-****와 7384-1234-5432-**** 입니다.'"
      ]
     },
     "execution_count": 13,
     "metadata": {},
     "output_type": "execute_result"
    }
   ],
   "source": [
    "import re\n",
    "\n",
    "comment = \"저의 카드 번호는 1234-2331-1123-9485와 7384 1234 5432 1222와 73841234-5432 1222 입니다.\"\n",
    "\n",
    "pattern = \"([0-9]{4})[- ]?([0-9]{4})[- ]?([0-9]{4})[- ]?([0-9]{4})\"\n",
    "print(re.findall(pattern, comment))\n",
    "\n",
    "re.sub(pattern, \"\\g<1>-\\g<2>-\\g<3>-****\", comment)"
   ]
  }
 ],
 "metadata": {
  "kernelspec": {
   "display_name": "Python 3",
   "language": "python",
   "name": "python3"
  },
  "language_info": {
   "codemirror_mode": {
    "name": "ipython",
    "version": 3
   },
   "file_extension": ".py",
   "mimetype": "text/x-python",
   "name": "python",
   "nbconvert_exporter": "python",
   "pygments_lexer": "ipython3",
   "version": "3.7.3"
  }
 },
 "nbformat": 4,
 "nbformat_minor": 2
}
